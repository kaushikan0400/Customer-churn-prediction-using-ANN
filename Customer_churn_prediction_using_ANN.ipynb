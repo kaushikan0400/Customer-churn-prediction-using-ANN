{
  "nbformat": 4,
  "nbformat_minor": 0,
  "metadata": {
    "colab": {
      "name": "Customer churn prediction using ANN.ipynb",
      "provenance": []
    },
    "kernelspec": {
      "name": "python3",
      "display_name": "Python 3"
    },
    "language_info": {
      "name": "python"
    }
  },
  "cells": [
    {
      "cell_type": "code",
      "metadata": {
        "id": "iHLlJaOtlScA"
      },
      "source": [
        "import pandas as pd\n",
        "import matplotlib.pyplot as plt\n",
        "import numpy as np\n",
        "from google.colab import files\n"
      ],
      "execution_count": null,
      "outputs": []
    },
    {
      "cell_type": "code",
      "metadata": {
        "colab": {
          "resources": {
            "http://localhost:8080/nbextensions/google.colab/files.js": {
              "data": "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",
              "ok": true,
              "headers": [
                [
                  "content-type",
                  "application/javascript"
                ]
              ],
              "status": 200,
              "status_text": ""
            }
          },
          "base_uri": "https://localhost:8080/",
          "height": 90
        },
        "id": "NF5z7y6cpBHp",
        "outputId": "b125cff3-f363-427e-90b5-c66461d22025"
      },
      "source": [
        "upload = files.upload()"
      ],
      "execution_count": null,
      "outputs": [
        {
          "output_type": "display_data",
          "data": {
            "text/html": [
              "\n",
              "     <input type=\"file\" id=\"files-bfed0cc5-fe4b-457a-b18d-e8299b335e41\" name=\"files[]\" multiple disabled\n",
              "        style=\"border:none\" />\n",
              "     <output id=\"result-bfed0cc5-fe4b-457a-b18d-e8299b335e41\">\n",
              "      Upload widget is only available when the cell has been executed in the\n",
              "      current browser session. Please rerun this cell to enable.\n",
              "      </output>\n",
              "      <script src=\"/nbextensions/google.colab/files.js\"></script> "
            ],
            "text/plain": [
              "<IPython.core.display.HTML object>"
            ]
          },
          "metadata": {}
        },
        {
          "output_type": "stream",
          "name": "stdout",
          "text": [
            "Saving Customer-Churn.csv to Customer-Churn.csv\n"
          ]
        }
      ]
    },
    {
      "cell_type": "code",
      "metadata": {
        "colab": {
          "base_uri": "https://localhost:8080/",
          "height": 307
        },
        "id": "lUINSTONnp-w",
        "outputId": "996634e5-50ce-4c0c-b242-16d894fe71ce"
      },
      "source": [
        "df = pd.read_csv(\"Customer-Churn.csv\")\n",
        "df.sample(5)"
      ],
      "execution_count": null,
      "outputs": [
        {
          "output_type": "execute_result",
          "data": {
            "text/html": [
              "<div>\n",
              "<style scoped>\n",
              "    .dataframe tbody tr th:only-of-type {\n",
              "        vertical-align: middle;\n",
              "    }\n",
              "\n",
              "    .dataframe tbody tr th {\n",
              "        vertical-align: top;\n",
              "    }\n",
              "\n",
              "    .dataframe thead th {\n",
              "        text-align: right;\n",
              "    }\n",
              "</style>\n",
              "<table border=\"1\" class=\"dataframe\">\n",
              "  <thead>\n",
              "    <tr style=\"text-align: right;\">\n",
              "      <th></th>\n",
              "      <th>customerID</th>\n",
              "      <th>gender</th>\n",
              "      <th>SeniorCitizen</th>\n",
              "      <th>Partner</th>\n",
              "      <th>Dependents</th>\n",
              "      <th>tenure</th>\n",
              "      <th>PhoneService</th>\n",
              "      <th>MultipleLines</th>\n",
              "      <th>InternetService</th>\n",
              "      <th>OnlineSecurity</th>\n",
              "      <th>OnlineBackup</th>\n",
              "      <th>DeviceProtection</th>\n",
              "      <th>TechSupport</th>\n",
              "      <th>StreamingTV</th>\n",
              "      <th>StreamingMovies</th>\n",
              "      <th>Contract</th>\n",
              "      <th>PaperlessBilling</th>\n",
              "      <th>PaymentMethod</th>\n",
              "      <th>MonthlyCharges</th>\n",
              "      <th>TotalCharges</th>\n",
              "      <th>Churn</th>\n",
              "    </tr>\n",
              "  </thead>\n",
              "  <tbody>\n",
              "    <tr>\n",
              "      <th>3916</th>\n",
              "      <td>5600-KTXFM</td>\n",
              "      <td>Male</td>\n",
              "      <td>0</td>\n",
              "      <td>Yes</td>\n",
              "      <td>Yes</td>\n",
              "      <td>2</td>\n",
              "      <td>Yes</td>\n",
              "      <td>No</td>\n",
              "      <td>Fiber optic</td>\n",
              "      <td>No</td>\n",
              "      <td>No</td>\n",
              "      <td>No</td>\n",
              "      <td>No</td>\n",
              "      <td>No</td>\n",
              "      <td>No</td>\n",
              "      <td>Month-to-month</td>\n",
              "      <td>No</td>\n",
              "      <td>Mailed check</td>\n",
              "      <td>69.95</td>\n",
              "      <td>143.9</td>\n",
              "      <td>No</td>\n",
              "    </tr>\n",
              "    <tr>\n",
              "      <th>4435</th>\n",
              "      <td>5453-AXEPF</td>\n",
              "      <td>Male</td>\n",
              "      <td>0</td>\n",
              "      <td>Yes</td>\n",
              "      <td>No</td>\n",
              "      <td>17</td>\n",
              "      <td>Yes</td>\n",
              "      <td>Yes</td>\n",
              "      <td>Fiber optic</td>\n",
              "      <td>No</td>\n",
              "      <td>Yes</td>\n",
              "      <td>No</td>\n",
              "      <td>No</td>\n",
              "      <td>No</td>\n",
              "      <td>No</td>\n",
              "      <td>Month-to-month</td>\n",
              "      <td>Yes</td>\n",
              "      <td>Bank transfer (automatic)</td>\n",
              "      <td>80.50</td>\n",
              "      <td>1336.9</td>\n",
              "      <td>No</td>\n",
              "    </tr>\n",
              "    <tr>\n",
              "      <th>5799</th>\n",
              "      <td>8066-POXGX</td>\n",
              "      <td>Female</td>\n",
              "      <td>0</td>\n",
              "      <td>No</td>\n",
              "      <td>No</td>\n",
              "      <td>13</td>\n",
              "      <td>No</td>\n",
              "      <td>No phone service</td>\n",
              "      <td>DSL</td>\n",
              "      <td>No</td>\n",
              "      <td>No</td>\n",
              "      <td>No</td>\n",
              "      <td>No</td>\n",
              "      <td>No</td>\n",
              "      <td>Yes</td>\n",
              "      <td>Month-to-month</td>\n",
              "      <td>Yes</td>\n",
              "      <td>Electronic check</td>\n",
              "      <td>35.10</td>\n",
              "      <td>446.1</td>\n",
              "      <td>Yes</td>\n",
              "    </tr>\n",
              "    <tr>\n",
              "      <th>1107</th>\n",
              "      <td>0971-QIFJK</td>\n",
              "      <td>Female</td>\n",
              "      <td>0</td>\n",
              "      <td>Yes</td>\n",
              "      <td>No</td>\n",
              "      <td>69</td>\n",
              "      <td>Yes</td>\n",
              "      <td>Yes</td>\n",
              "      <td>No</td>\n",
              "      <td>No internet service</td>\n",
              "      <td>No internet service</td>\n",
              "      <td>No internet service</td>\n",
              "      <td>No internet service</td>\n",
              "      <td>No internet service</td>\n",
              "      <td>No internet service</td>\n",
              "      <td>Two year</td>\n",
              "      <td>No</td>\n",
              "      <td>Bank transfer (automatic)</td>\n",
              "      <td>24.25</td>\n",
              "      <td>1641.8</td>\n",
              "      <td>No</td>\n",
              "    </tr>\n",
              "    <tr>\n",
              "      <th>2259</th>\n",
              "      <td>9030-QGZNL</td>\n",
              "      <td>Female</td>\n",
              "      <td>0</td>\n",
              "      <td>No</td>\n",
              "      <td>No</td>\n",
              "      <td>8</td>\n",
              "      <td>Yes</td>\n",
              "      <td>No</td>\n",
              "      <td>No</td>\n",
              "      <td>No internet service</td>\n",
              "      <td>No internet service</td>\n",
              "      <td>No internet service</td>\n",
              "      <td>No internet service</td>\n",
              "      <td>No internet service</td>\n",
              "      <td>No internet service</td>\n",
              "      <td>Two year</td>\n",
              "      <td>No</td>\n",
              "      <td>Mailed check</td>\n",
              "      <td>20.85</td>\n",
              "      <td>161.65</td>\n",
              "      <td>No</td>\n",
              "    </tr>\n",
              "  </tbody>\n",
              "</table>\n",
              "</div>"
            ],
            "text/plain": [
              "      customerID  gender  SeniorCitizen  ... MonthlyCharges TotalCharges  Churn\n",
              "3916  5600-KTXFM    Male              0  ...          69.95        143.9     No\n",
              "4435  5453-AXEPF    Male              0  ...          80.50       1336.9     No\n",
              "5799  8066-POXGX  Female              0  ...          35.10        446.1    Yes\n",
              "1107  0971-QIFJK  Female              0  ...          24.25       1641.8     No\n",
              "2259  9030-QGZNL  Female              0  ...          20.85       161.65     No\n",
              "\n",
              "[5 rows x 21 columns]"
            ]
          },
          "metadata": {},
          "execution_count": 8
        }
      ]
    },
    {
      "cell_type": "code",
      "metadata": {
        "id": "IUC5FEI0pd35"
      },
      "source": [
        "df.drop('customerID', axis='columns',inplace= True)"
      ],
      "execution_count": null,
      "outputs": []
    },
    {
      "cell_type": "code",
      "metadata": {
        "colab": {
          "base_uri": "https://localhost:8080/"
        },
        "id": "CSln8b7Op0xN",
        "outputId": "252a7d30-cff9-4f1d-c622-ed9ae9cbb584"
      },
      "source": [
        "df.dtypes"
      ],
      "execution_count": null,
      "outputs": [
        {
          "output_type": "execute_result",
          "data": {
            "text/plain": [
              "gender               object\n",
              "SeniorCitizen         int64\n",
              "Partner              object\n",
              "Dependents           object\n",
              "tenure                int64\n",
              "PhoneService         object\n",
              "MultipleLines        object\n",
              "InternetService      object\n",
              "OnlineSecurity       object\n",
              "OnlineBackup         object\n",
              "DeviceProtection     object\n",
              "TechSupport          object\n",
              "StreamingTV          object\n",
              "StreamingMovies      object\n",
              "Contract             object\n",
              "PaperlessBilling     object\n",
              "PaymentMethod        object\n",
              "MonthlyCharges      float64\n",
              "TotalCharges         object\n",
              "Churn                object\n",
              "dtype: object"
            ]
          },
          "metadata": {},
          "execution_count": 10
        }
      ]
    },
    {
      "cell_type": "code",
      "metadata": {
        "colab": {
          "base_uri": "https://localhost:8080/"
        },
        "id": "xdZK2lsPp2y6",
        "outputId": "1b9c99c1-2dd6-48a5-97f4-cec20c5346a7"
      },
      "source": [
        "df.info\n"
      ],
      "execution_count": null,
      "outputs": [
        {
          "output_type": "execute_result",
          "data": {
            "text/plain": [
              "<bound method DataFrame.info of       gender  SeniorCitizen Partner  ... MonthlyCharges  TotalCharges Churn\n",
              "0     Female              0     Yes  ...          29.85         29.85    No\n",
              "1       Male              0      No  ...          56.95        1889.5    No\n",
              "2       Male              0      No  ...          53.85        108.15   Yes\n",
              "3       Male              0      No  ...          42.30       1840.75    No\n",
              "4     Female              0      No  ...          70.70        151.65   Yes\n",
              "...      ...            ...     ...  ...            ...           ...   ...\n",
              "7038    Male              0     Yes  ...          84.80        1990.5    No\n",
              "7039  Female              0     Yes  ...         103.20        7362.9    No\n",
              "7040  Female              0     Yes  ...          29.60        346.45    No\n",
              "7041    Male              1     Yes  ...          74.40         306.6   Yes\n",
              "7042    Male              0      No  ...         105.65        6844.5    No\n",
              "\n",
              "[7043 rows x 20 columns]>"
            ]
          },
          "metadata": {},
          "execution_count": 11
        }
      ]
    },
    {
      "cell_type": "code",
      "metadata": {
        "colab": {
          "base_uri": "https://localhost:8080/"
        },
        "id": "-DVGKqryp2vW",
        "outputId": "61e2b68c-3ea3-47ba-a7e4-7fe7100d3c0f"
      },
      "source": [
        "df.TotalCharges.values"
      ],
      "execution_count": null,
      "outputs": [
        {
          "output_type": "execute_result",
          "data": {
            "text/plain": [
              "array(['29.85', '1889.5', '108.15', ..., '346.45', '306.6', '6844.5'],\n",
              "      dtype=object)"
            ]
          },
          "metadata": {},
          "execution_count": 12
        }
      ]
    },
    {
      "cell_type": "code",
      "metadata": {
        "colab": {
          "base_uri": "https://localhost:8080/"
        },
        "id": "xyYjZL5xp2sc",
        "outputId": "0e7bc775-4557-43a6-aad3-76445e873781"
      },
      "source": [
        "df.MonthlyCharges.values"
      ],
      "execution_count": null,
      "outputs": [
        {
          "output_type": "execute_result",
          "data": {
            "text/plain": [
              "array([ 29.85,  56.95,  53.85, ...,  29.6 ,  74.4 , 105.65])"
            ]
          },
          "metadata": {},
          "execution_count": 13
        }
      ]
    },
    {
      "cell_type": "code",
      "metadata": {
        "colab": {
          "base_uri": "https://localhost:8080/",
          "height": 447
        },
        "id": "WTAdMmGNp2pj",
        "outputId": "a6c07efc-80ef-4bb1-f444-0861d5e85562"
      },
      "source": [
        "pd.to_numeric(df.TotalCharges)"
      ],
      "execution_count": null,
      "outputs": [
        {
          "output_type": "error",
          "ename": "ValueError",
          "evalue": "ignored",
          "traceback": [
            "\u001b[0;31m---------------------------------------------------------------------------\u001b[0m",
            "\u001b[0;31mValueError\u001b[0m                                Traceback (most recent call last)",
            "\u001b[0;32mpandas/_libs/lib.pyx\u001b[0m in \u001b[0;36mpandas._libs.lib.maybe_convert_numeric\u001b[0;34m()\u001b[0m\n",
            "\u001b[0;31mValueError\u001b[0m: Unable to parse string \" \"",
            "\nDuring handling of the above exception, another exception occurred:\n",
            "\u001b[0;31mValueError\u001b[0m                                Traceback (most recent call last)",
            "\u001b[0;32m<ipython-input-14-06ba430a4ba5>\u001b[0m in \u001b[0;36m<module>\u001b[0;34m()\u001b[0m\n\u001b[0;32m----> 1\u001b[0;31m \u001b[0mpd\u001b[0m\u001b[0;34m.\u001b[0m\u001b[0mto_numeric\u001b[0m\u001b[0;34m(\u001b[0m\u001b[0mdf\u001b[0m\u001b[0;34m.\u001b[0m\u001b[0mTotalCharges\u001b[0m\u001b[0;34m)\u001b[0m\u001b[0;34m\u001b[0m\u001b[0;34m\u001b[0m\u001b[0m\n\u001b[0m",
            "\u001b[0;32m/usr/local/lib/python3.7/dist-packages/pandas/core/tools/numeric.py\u001b[0m in \u001b[0;36mto_numeric\u001b[0;34m(arg, errors, downcast)\u001b[0m\n\u001b[1;32m    151\u001b[0m         \u001b[0;32mtry\u001b[0m\u001b[0;34m:\u001b[0m\u001b[0;34m\u001b[0m\u001b[0;34m\u001b[0m\u001b[0m\n\u001b[1;32m    152\u001b[0m             values = lib.maybe_convert_numeric(\n\u001b[0;32m--> 153\u001b[0;31m                 \u001b[0mvalues\u001b[0m\u001b[0;34m,\u001b[0m \u001b[0mset\u001b[0m\u001b[0;34m(\u001b[0m\u001b[0;34m)\u001b[0m\u001b[0;34m,\u001b[0m \u001b[0mcoerce_numeric\u001b[0m\u001b[0;34m=\u001b[0m\u001b[0mcoerce_numeric\u001b[0m\u001b[0;34m\u001b[0m\u001b[0;34m\u001b[0m\u001b[0m\n\u001b[0m\u001b[1;32m    154\u001b[0m             )\n\u001b[1;32m    155\u001b[0m         \u001b[0;32mexcept\u001b[0m \u001b[0;34m(\u001b[0m\u001b[0mValueError\u001b[0m\u001b[0;34m,\u001b[0m \u001b[0mTypeError\u001b[0m\u001b[0;34m)\u001b[0m\u001b[0;34m:\u001b[0m\u001b[0;34m\u001b[0m\u001b[0;34m\u001b[0m\u001b[0m\n",
            "\u001b[0;32mpandas/_libs/lib.pyx\u001b[0m in \u001b[0;36mpandas._libs.lib.maybe_convert_numeric\u001b[0;34m()\u001b[0m\n",
            "\u001b[0;31mValueError\u001b[0m: Unable to parse string \" \" at position 488"
          ]
        }
      ]
    },
    {
      "cell_type": "code",
      "metadata": {
        "colab": {
          "base_uri": "https://localhost:8080/",
          "height": 350
        },
        "id": "znh_u945qgZq",
        "outputId": "dcefe8e9-0942-4026-fdb3-31a5b2767be9"
      },
      "source": [
        "tenure_churu_no = df1[df1.Churn == 'No'].MonthlyCharges\n",
        "tenure_churu_yes = df1[df1.Churn == 'Yes'].MonthlyCharges\n",
        "\n",
        "plt.xlabel('tenure')\n",
        "plt.ylabel('no.of.customers')\n",
        "plt.hist([tenure_churu_yes,tenure_churu_no], label=['yes','no'])\n",
        "plt.legend()"
      ],
      "execution_count": null,
      "outputs": [
        {
          "output_type": "stream",
          "name": "stderr",
          "text": [
            "/usr/local/lib/python3.7/dist-packages/numpy/core/_asarray.py:83: VisibleDeprecationWarning: Creating an ndarray from ragged nested sequences (which is a list-or-tuple of lists-or-tuples-or ndarrays with different lengths or shapes) is deprecated. If you meant to do this, you must specify 'dtype=object' when creating the ndarray\n",
            "  return array(a, dtype, copy=False, order=order)\n"
          ]
        },
        {
          "output_type": "execute_result",
          "data": {
            "text/plain": [
              "<matplotlib.legend.Legend at 0x7fd807d74a50>"
            ]
          },
          "metadata": {},
          "execution_count": 35
        },
        {
          "output_type": "display_data",
          "data": {
            "image/png": "[encoded data removed]",
            "text/plain": [
              "<Figure size 432x288 with 1 Axes>"
            ]
          },
          "metadata": {
            "needs_background": "light"
          }
        }
      ]
    },
    {
      "cell_type": "code",
      "metadata": {
        "colab": {
          "base_uri": "https://localhost:8080/"
        },
        "id": "2B2eJZd6qgUl",
        "outputId": "e7a8a444-15d5-43b7-efc0-f926ad081f57"
      },
      "source": [
        "for col in df1:\n",
        "  if df1[col].dtypes == 'object':\n",
        "    print(f'{col} = {df1[col].unique()}')"
      ],
      "execution_count": null,
      "outputs": [
        {
          "output_type": "stream",
          "name": "stdout",
          "text": [
            "gender = ['Female' 'Male']\n",
            "Partner = ['Yes' 'No']\n",
            "Dependents = ['No' 'Yes']\n",
            "PhoneService = ['No' 'Yes']\n",
            "MultipleLines = ['No' 'Yes']\n",
            "InternetService = ['DSL' 'Fiber optic' 'No']\n",
            "OnlineSecurity = ['No' 'Yes']\n",
            "OnlineBackup = ['Yes' 'No']\n",
            "DeviceProtection = ['No' 'Yes']\n",
            "TechSupport = ['No' 'Yes']\n",
            "StreamingTV = ['No' 'Yes']\n",
            "StreamingMovies = ['No' 'Yes']\n",
            "Contract = ['Month-to-month' 'One year' 'Two year']\n",
            "PaperlessBilling = ['Yes' 'No']\n",
            "PaymentMethod = ['Electronic check' 'Mailed check' 'Bank transfer (automatic)'\n",
            " 'Credit card (automatic)']\n",
            "Churn = ['No' 'Yes']\n"
          ]
        }
      ]
    },
    {
      "cell_type": "code",
      "metadata": {
        "colab": {
          "base_uri": "https://localhost:8080/"
        },
        "id": "BQp1L0CPqgRm",
        "outputId": "546cc910-9b0c-48d7-e206-856bfdf769e1"
      },
      "source": [
        "df1.replace('No internet service','No',inplace= True)\n",
        "df1.replace('No phone service','No',inplace= True)"
      ],
      "execution_count": null,
      "outputs": [
        {
          "output_type": "stream",
          "name": "stderr",
          "text": [
            "/usr/local/lib/python3.7/dist-packages/pandas/core/frame.py:4389: SettingWithCopyWarning: \n",
            "A value is trying to be set on a copy of a slice from a DataFrame\n",
            "\n",
            "See the caveats in the documentation: https://pandas.pydata.org/pandas-docs/stable/user_guide/indexing.html#returning-a-view-versus-a-copy\n",
            "  method=method,\n"
          ]
        }
      ]
    },
    {
      "cell_type": "code",
      "metadata": {
        "colab": {
          "base_uri": "https://localhost:8080/"
        },
        "id": "Vlsl0tZlp2nE",
        "outputId": "eb038422-9741-4e30-ea8b-b574d4c3bb2a"
      },
      "source": [
        "yes_no =['Partner','Dependents','PhoneService','MultipleLines','OnlineSecurity','OnlineBackup','DeviceProtection','TechSupport','StreamingTV','StreamingMovies','PaperlessBilling','Churn']\n",
        "\n",
        "\n",
        "for col in yes_no:\n",
        "  df1[col].replace({'Yes': 1,'No':0},inplace = True)"
      ],
      "execution_count": null,
      "outputs": [
        {
          "output_type": "stream",
          "name": "stderr",
          "text": [
            "/usr/local/lib/python3.7/dist-packages/pandas/core/series.py:4582: SettingWithCopyWarning: \n",
            "A value is trying to be set on a copy of a slice from a DataFrame\n",
            "\n",
            "See the caveats in the documentation: https://pandas.pydata.org/pandas-docs/stable/user_guide/indexing.html#returning-a-view-versus-a-copy\n",
            "  method=method,\n"
          ]
        }
      ]
    },
    {
      "cell_type": "code",
      "metadata": {
        "colab": {
          "base_uri": "https://localhost:8080/"
        },
        "id": "pyrtLxXhp2kk",
        "outputId": "53fd403f-f098-4073-8856-f42f5a2feb60"
      },
      "source": [
        "for col in df1:\n",
        "    print(f'{col} = {df1[col].unique()}')"
      ],
      "execution_count": null,
      "outputs": [
        {
          "output_type": "stream",
          "name": "stdout",
          "text": [
            "gender = [1 0]\n",
            "SeniorCitizen = [0 1]\n",
            "Partner = [1 0]\n",
            "Dependents = [0 1]\n",
            "tenure = [ 1 34  2 45  8 22 10 28 62 13 16 58 49 25 69 52 71 21 12 30 47 72 17 27\n",
            "  5 46 11 70 63 43 15 60 18 66  9  3 31 50 64 56  7 42 35 48 29 65 38 68\n",
            " 32 55 37 36 41  6  4 33 67 23 57 61 14 20 53 40 59 24 44 19 54 51 26 39]\n",
            "PhoneService = [0 1]\n",
            "MultipleLines = [0 1]\n",
            "InternetService = ['DSL' 'Fiber optic' 'No']\n",
            "OnlineSecurity = [0 1]\n",
            "OnlineBackup = [1 0]\n",
            "DeviceProtection = [0 1]\n",
            "TechSupport = [0 1]\n",
            "StreamingTV = [0 1]\n",
            "StreamingMovies = [0 1]\n",
            "Contract = ['Month-to-month' 'One year' 'Two year']\n",
            "PaperlessBilling = [1 0]\n",
            "PaymentMethod = ['Electronic check' 'Mailed check' 'Bank transfer (automatic)'\n",
            " 'Credit card (automatic)']\n",
            "MonthlyCharges = [29.85 56.95 53.85 ... 63.1  44.2  78.7 ]\n",
            "TotalCharges = [  29.85 1889.5   108.15 ...  346.45  306.6  6844.5 ]\n",
            "Churn = [0 1]\n"
          ]
        }
      ]
    },
    {
      "cell_type": "code",
      "metadata": {
        "colab": {
          "base_uri": "https://localhost:8080/"
        },
        "id": "BcgsdVTJp2hz",
        "outputId": "076ff518-b870-4291-ee85-90c3d44480ea"
      },
      "source": [
        "df1['gender'].replace({'Female': 1,'Male':0},inplace = True)"
      ],
      "execution_count": null,
      "outputs": [
        {
          "output_type": "stream",
          "name": "stderr",
          "text": [
            "/usr/local/lib/python3.7/dist-packages/pandas/core/series.py:4582: SettingWithCopyWarning: \n",
            "A value is trying to be set on a copy of a slice from a DataFrame\n",
            "\n",
            "See the caveats in the documentation: https://pandas.pydata.org/pandas-docs/stable/user_guide/indexing.html#returning-a-view-versus-a-copy\n",
            "  method=method,\n"
          ]
        }
      ]
    },
    {
      "cell_type": "code",
      "metadata": {
        "id": "lzz26idFp2e5"
      },
      "source": [
        "df2 = pd.get_dummies(data= df1, columns=['InternetService','Contract','PaymentMethod'])\n"
      ],
      "execution_count": null,
      "outputs": []
    },
    {
      "cell_type": "code",
      "metadata": {
        "colab": {
          "base_uri": "https://localhost:8080/"
        },
        "id": "moD2TdFfp2cC",
        "outputId": "abb2f7b1-cc93-44cd-8477-82a9d49d79e7"
      },
      "source": [
        "df2.columns"
      ],
      "execution_count": null,
      "outputs": [
        {
          "output_type": "execute_result",
          "data": {
            "text/plain": [
              "Index(['gender', 'SeniorCitizen', 'Partner', 'Dependents', 'tenure',\n",
              "       'PhoneService', 'MultipleLines', 'OnlineSecurity', 'OnlineBackup',\n",
              "       'DeviceProtection', 'TechSupport', 'StreamingTV', 'StreamingMovies',\n",
              "       'PaperlessBilling', 'MonthlyCharges', 'TotalCharges', 'Churn',\n",
              "       'InternetService_DSL', 'InternetService_Fiber optic',\n",
              "       'InternetService_No', 'Contract_Month-to-month', 'Contract_One year',\n",
              "       'Contract_Two year', 'PaymentMethod_Bank transfer (automatic)',\n",
              "       'PaymentMethod_Credit card (automatic)',\n",
              "       'PaymentMethod_Electronic check', 'PaymentMethod_Mailed check'],\n",
              "      dtype='object')"
            ]
          },
          "metadata": {},
          "execution_count": 62
        }
      ]
    },
    {
      "cell_type": "code",
      "metadata": {
        "colab": {
          "base_uri": "https://localhost:8080/",
          "height": 257
        },
        "id": "dqDE1KY5p2Zg",
        "outputId": "e0f1f9e1-68bb-42b1-bcbe-e2744e991391"
      },
      "source": [
        "df2.sample(5)"
      ],
      "execution_count": null,
      "outputs": [
        {
          "output_type": "execute_result",
          "data": {
            "text/html": [
              "<div>\n",
              "<style scoped>\n",
              "    .dataframe tbody tr th:only-of-type {\n",
              "        vertical-align: middle;\n",
              "    }\n",
              "\n",
              "    .dataframe tbody tr th {\n",
              "        vertical-align: top;\n",
              "    }\n",
              "\n",
              "    .dataframe thead th {\n",
              "        text-align: right;\n",
              "    }\n",
              "</style>\n",
              "<table border=\"1\" class=\"dataframe\">\n",
              "  <thead>\n",
              "    <tr style=\"text-align: right;\">\n",
              "      <th></th>\n",
              "      <th>gender</th>\n",
              "      <th>SeniorCitizen</th>\n",
              "      <th>Partner</th>\n",
              "      <th>Dependents</th>\n",
              "      <th>tenure</th>\n",
              "      <th>PhoneService</th>\n",
              "      <th>MultipleLines</th>\n",
              "      <th>OnlineSecurity</th>\n",
              "      <th>OnlineBackup</th>\n",
              "      <th>DeviceProtection</th>\n",
              "      <th>TechSupport</th>\n",
              "      <th>StreamingTV</th>\n",
              "      <th>StreamingMovies</th>\n",
              "      <th>PaperlessBilling</th>\n",
              "      <th>MonthlyCharges</th>\n",
              "      <th>TotalCharges</th>\n",
              "      <th>Churn</th>\n",
              "      <th>InternetService_DSL</th>\n",
              "      <th>InternetService_Fiber optic</th>\n",
              "      <th>InternetService_No</th>\n",
              "      <th>Contract_Month-to-month</th>\n",
              "      <th>Contract_One year</th>\n",
              "      <th>Contract_Two year</th>\n",
              "      <th>PaymentMethod_Bank transfer (automatic)</th>\n",
              "      <th>PaymentMethod_Credit card (automatic)</th>\n",
              "      <th>PaymentMethod_Electronic check</th>\n",
              "      <th>PaymentMethod_Mailed check</th>\n",
              "    </tr>\n",
              "  </thead>\n",
              "  <tbody>\n",
              "    <tr>\n",
              "      <th>1794</th>\n",
              "      <td>1</td>\n",
              "      <td>0</td>\n",
              "      <td>1</td>\n",
              "      <td>1</td>\n",
              "      <td>71</td>\n",
              "      <td>1</td>\n",
              "      <td>1</td>\n",
              "      <td>1</td>\n",
              "      <td>1</td>\n",
              "      <td>1</td>\n",
              "      <td>1</td>\n",
              "      <td>1</td>\n",
              "      <td>1</td>\n",
              "      <td>0</td>\n",
              "      <td>91.05</td>\n",
              "      <td>6293.75</td>\n",
              "      <td>0</td>\n",
              "      <td>1</td>\n",
              "      <td>0</td>\n",
              "      <td>0</td>\n",
              "      <td>0</td>\n",
              "      <td>0</td>\n",
              "      <td>1</td>\n",
              "      <td>0</td>\n",
              "      <td>0</td>\n",
              "      <td>0</td>\n",
              "      <td>1</td>\n",
              "    </tr>\n",
              "    <tr>\n",
              "      <th>4128</th>\n",
              "      <td>0</td>\n",
              "      <td>0</td>\n",
              "      <td>0</td>\n",
              "      <td>0</td>\n",
              "      <td>57</td>\n",
              "      <td>0</td>\n",
              "      <td>0</td>\n",
              "      <td>0</td>\n",
              "      <td>1</td>\n",
              "      <td>0</td>\n",
              "      <td>0</td>\n",
              "      <td>1</td>\n",
              "      <td>0</td>\n",
              "      <td>1</td>\n",
              "      <td>39.30</td>\n",
              "      <td>2111.45</td>\n",
              "      <td>1</td>\n",
              "      <td>1</td>\n",
              "      <td>0</td>\n",
              "      <td>0</td>\n",
              "      <td>1</td>\n",
              "      <td>0</td>\n",
              "      <td>0</td>\n",
              "      <td>0</td>\n",
              "      <td>0</td>\n",
              "      <td>1</td>\n",
              "      <td>0</td>\n",
              "    </tr>\n",
              "    <tr>\n",
              "      <th>5228</th>\n",
              "      <td>0</td>\n",
              "      <td>0</td>\n",
              "      <td>0</td>\n",
              "      <td>0</td>\n",
              "      <td>9</td>\n",
              "      <td>1</td>\n",
              "      <td>0</td>\n",
              "      <td>0</td>\n",
              "      <td>0</td>\n",
              "      <td>0</td>\n",
              "      <td>0</td>\n",
              "      <td>0</td>\n",
              "      <td>0</td>\n",
              "      <td>1</td>\n",
              "      <td>44.40</td>\n",
              "      <td>348.15</td>\n",
              "      <td>0</td>\n",
              "      <td>1</td>\n",
              "      <td>0</td>\n",
              "      <td>0</td>\n",
              "      <td>1</td>\n",
              "      <td>0</td>\n",
              "      <td>0</td>\n",
              "      <td>0</td>\n",
              "      <td>0</td>\n",
              "      <td>0</td>\n",
              "      <td>1</td>\n",
              "    </tr>\n",
              "    <tr>\n",
              "      <th>973</th>\n",
              "      <td>0</td>\n",
              "      <td>1</td>\n",
              "      <td>1</td>\n",
              "      <td>0</td>\n",
              "      <td>44</td>\n",
              "      <td>0</td>\n",
              "      <td>0</td>\n",
              "      <td>0</td>\n",
              "      <td>1</td>\n",
              "      <td>0</td>\n",
              "      <td>0</td>\n",
              "      <td>0</td>\n",
              "      <td>0</td>\n",
              "      <td>1</td>\n",
              "      <td>30.35</td>\n",
              "      <td>1359.70</td>\n",
              "      <td>1</td>\n",
              "      <td>1</td>\n",
              "      <td>0</td>\n",
              "      <td>0</td>\n",
              "      <td>1</td>\n",
              "      <td>0</td>\n",
              "      <td>0</td>\n",
              "      <td>0</td>\n",
              "      <td>0</td>\n",
              "      <td>1</td>\n",
              "      <td>0</td>\n",
              "    </tr>\n",
              "    <tr>\n",
              "      <th>4909</th>\n",
              "      <td>0</td>\n",
              "      <td>0</td>\n",
              "      <td>1</td>\n",
              "      <td>0</td>\n",
              "      <td>51</td>\n",
              "      <td>1</td>\n",
              "      <td>0</td>\n",
              "      <td>1</td>\n",
              "      <td>1</td>\n",
              "      <td>1</td>\n",
              "      <td>1</td>\n",
              "      <td>1</td>\n",
              "      <td>1</td>\n",
              "      <td>1</td>\n",
              "      <td>83.85</td>\n",
              "      <td>4307.10</td>\n",
              "      <td>0</td>\n",
              "      <td>1</td>\n",
              "      <td>0</td>\n",
              "      <td>0</td>\n",
              "      <td>0</td>\n",
              "      <td>0</td>\n",
              "      <td>1</td>\n",
              "      <td>0</td>\n",
              "      <td>1</td>\n",
              "      <td>0</td>\n",
              "      <td>0</td>\n",
              "    </tr>\n",
              "  </tbody>\n",
              "</table>\n",
              "</div>"
            ],
            "text/plain": [
              "      gender  ...  PaymentMethod_Mailed check\n",
              "1794       1  ...                           1\n",
              "4128       0  ...                           0\n",
              "5228       0  ...                           1\n",
              "973        0  ...                           0\n",
              "4909       0  ...                           0\n",
              "\n",
              "[5 rows x 27 columns]"
            ]
          },
          "metadata": {},
          "execution_count": 67
        }
      ]
    },
    {
      "cell_type": "code",
      "metadata": {
        "colab": {
          "base_uri": "https://localhost:8080/"
        },
        "id": "4vMAXGqNp2W5",
        "outputId": "f9603f77-3b8c-405e-e3a5-70d0db1ef508"
      },
      "source": [
        "df2.dtypes"
      ],
      "execution_count": null,
      "outputs": [
        {
          "output_type": "execute_result",
          "data": {
            "text/plain": [
              "gender                                       int64\n",
              "SeniorCitizen                                int64\n",
              "Partner                                      int64\n",
              "Dependents                                   int64\n",
              "tenure                                       int64\n",
              "PhoneService                                 int64\n",
              "MultipleLines                                int64\n",
              "OnlineSecurity                               int64\n",
              "OnlineBackup                                 int64\n",
              "DeviceProtection                             int64\n",
              "TechSupport                                  int64\n",
              "StreamingTV                                  int64\n",
              "StreamingMovies                              int64\n",
              "PaperlessBilling                             int64\n",
              "MonthlyCharges                             float64\n",
              "TotalCharges                               float64\n",
              "Churn                                        int64\n",
              "InternetService_DSL                          uint8\n",
              "InternetService_Fiber optic                  uint8\n",
              "InternetService_No                           uint8\n",
              "Contract_Month-to-month                      uint8\n",
              "Contract_One year                            uint8\n",
              "Contract_Two year                            uint8\n",
              "PaymentMethod_Bank transfer (automatic)      uint8\n",
              "PaymentMethod_Credit card (automatic)        uint8\n",
              "PaymentMethod_Electronic check               uint8\n",
              "PaymentMethod_Mailed check                   uint8\n",
              "dtype: object"
            ]
          },
          "metadata": {},
          "execution_count": 65
        }
      ]
    },
    {
      "cell_type": "code",
      "metadata": {
        "id": "HuiCNxMHp2UP"
      },
      "source": [
        "col_to_scale = ['MonthlyCharges','TotalCharges','tenure']\n",
        "\n",
        "from sklearn.preprocessing import MinMaxScaler\n",
        "scaler = MinMaxScaler()\n",
        "\n",
        "df2[col_to_scale] = scaler.fit_transform(df2[col_to_scale])"
      ],
      "execution_count": null,
      "outputs": []
    },
    {
      "cell_type": "code",
      "metadata": {
        "colab": {
          "base_uri": "https://localhost:8080/",
          "height": 257
        },
        "id": "GgUFPlstp2RJ",
        "outputId": "8d33644f-07f9-401d-82e5-e0a975961b87"
      },
      "source": [
        "df2.sample(5)"
      ],
      "execution_count": null,
      "outputs": [
        {
          "output_type": "execute_result",
          "data": {
            "text/html": [
              "<div>\n",
              "<style scoped>\n",
              "    .dataframe tbody tr th:only-of-type {\n",
              "        vertical-align: middle;\n",
              "    }\n",
              "\n",
              "    .dataframe tbody tr th {\n",
              "        vertical-align: top;\n",
              "    }\n",
              "\n",
              "    .dataframe thead th {\n",
              "        text-align: right;\n",
              "    }\n",
              "</style>\n",
              "<table border=\"1\" class=\"dataframe\">\n",
              "  <thead>\n",
              "    <tr style=\"text-align: right;\">\n",
              "      <th></th>\n",
              "      <th>gender</th>\n",
              "      <th>SeniorCitizen</th>\n",
              "      <th>Partner</th>\n",
              "      <th>Dependents</th>\n",
              "      <th>tenure</th>\n",
              "      <th>PhoneService</th>\n",
              "      <th>MultipleLines</th>\n",
              "      <th>OnlineSecurity</th>\n",
              "      <th>OnlineBackup</th>\n",
              "      <th>DeviceProtection</th>\n",
              "      <th>TechSupport</th>\n",
              "      <th>StreamingTV</th>\n",
              "      <th>StreamingMovies</th>\n",
              "      <th>PaperlessBilling</th>\n",
              "      <th>MonthlyCharges</th>\n",
              "      <th>TotalCharges</th>\n",
              "      <th>Churn</th>\n",
              "      <th>InternetService_DSL</th>\n",
              "      <th>InternetService_Fiber optic</th>\n",
              "      <th>InternetService_No</th>\n",
              "      <th>Contract_Month-to-month</th>\n",
              "      <th>Contract_One year</th>\n",
              "      <th>Contract_Two year</th>\n",
              "      <th>PaymentMethod_Bank transfer (automatic)</th>\n",
              "      <th>PaymentMethod_Credit card (automatic)</th>\n",
              "      <th>PaymentMethod_Electronic check</th>\n",
              "      <th>PaymentMethod_Mailed check</th>\n",
              "    </tr>\n",
              "  </thead>\n",
              "  <tbody>\n",
              "    <tr>\n",
              "      <th>4179</th>\n",
              "      <td>0</td>\n",
              "      <td>1</td>\n",
              "      <td>0</td>\n",
              "      <td>0</td>\n",
              "      <td>0.154930</td>\n",
              "      <td>1</td>\n",
              "      <td>1</td>\n",
              "      <td>0</td>\n",
              "      <td>0</td>\n",
              "      <td>0</td>\n",
              "      <td>0</td>\n",
              "      <td>0</td>\n",
              "      <td>0</td>\n",
              "      <td>1</td>\n",
              "      <td>0.547761</td>\n",
              "      <td>0.093382</td>\n",
              "      <td>0</td>\n",
              "      <td>0</td>\n",
              "      <td>1</td>\n",
              "      <td>0</td>\n",
              "      <td>1</td>\n",
              "      <td>0</td>\n",
              "      <td>0</td>\n",
              "      <td>0</td>\n",
              "      <td>1</td>\n",
              "      <td>0</td>\n",
              "      <td>0</td>\n",
              "    </tr>\n",
              "    <tr>\n",
              "      <th>28</th>\n",
              "      <td>0</td>\n",
              "      <td>0</td>\n",
              "      <td>1</td>\n",
              "      <td>0</td>\n",
              "      <td>1.000000</td>\n",
              "      <td>1</td>\n",
              "      <td>1</td>\n",
              "      <td>1</td>\n",
              "      <td>1</td>\n",
              "      <td>1</td>\n",
              "      <td>1</td>\n",
              "      <td>1</td>\n",
              "      <td>1</td>\n",
              "      <td>1</td>\n",
              "      <td>0.716418</td>\n",
              "      <td>0.732824</td>\n",
              "      <td>0</td>\n",
              "      <td>1</td>\n",
              "      <td>0</td>\n",
              "      <td>0</td>\n",
              "      <td>0</td>\n",
              "      <td>0</td>\n",
              "      <td>1</td>\n",
              "      <td>0</td>\n",
              "      <td>1</td>\n",
              "      <td>0</td>\n",
              "      <td>0</td>\n",
              "    </tr>\n",
              "    <tr>\n",
              "      <th>2774</th>\n",
              "      <td>0</td>\n",
              "      <td>0</td>\n",
              "      <td>0</td>\n",
              "      <td>0</td>\n",
              "      <td>0.070423</td>\n",
              "      <td>1</td>\n",
              "      <td>0</td>\n",
              "      <td>0</td>\n",
              "      <td>0</td>\n",
              "      <td>0</td>\n",
              "      <td>1</td>\n",
              "      <td>0</td>\n",
              "      <td>0</td>\n",
              "      <td>0</td>\n",
              "      <td>0.316418</td>\n",
              "      <td>0.031104</td>\n",
              "      <td>0</td>\n",
              "      <td>1</td>\n",
              "      <td>0</td>\n",
              "      <td>0</td>\n",
              "      <td>1</td>\n",
              "      <td>0</td>\n",
              "      <td>0</td>\n",
              "      <td>0</td>\n",
              "      <td>0</td>\n",
              "      <td>0</td>\n",
              "      <td>1</td>\n",
              "    </tr>\n",
              "    <tr>\n",
              "      <th>914</th>\n",
              "      <td>0</td>\n",
              "      <td>0</td>\n",
              "      <td>1</td>\n",
              "      <td>1</td>\n",
              "      <td>1.000000</td>\n",
              "      <td>1</td>\n",
              "      <td>1</td>\n",
              "      <td>0</td>\n",
              "      <td>0</td>\n",
              "      <td>0</td>\n",
              "      <td>0</td>\n",
              "      <td>0</td>\n",
              "      <td>0</td>\n",
              "      <td>1</td>\n",
              "      <td>0.069154</td>\n",
              "      <td>0.205412</td>\n",
              "      <td>0</td>\n",
              "      <td>0</td>\n",
              "      <td>0</td>\n",
              "      <td>1</td>\n",
              "      <td>0</td>\n",
              "      <td>0</td>\n",
              "      <td>1</td>\n",
              "      <td>1</td>\n",
              "      <td>0</td>\n",
              "      <td>0</td>\n",
              "      <td>0</td>\n",
              "    </tr>\n",
              "    <tr>\n",
              "      <th>6254</th>\n",
              "      <td>1</td>\n",
              "      <td>0</td>\n",
              "      <td>1</td>\n",
              "      <td>0</td>\n",
              "      <td>0.830986</td>\n",
              "      <td>1</td>\n",
              "      <td>0</td>\n",
              "      <td>1</td>\n",
              "      <td>0</td>\n",
              "      <td>0</td>\n",
              "      <td>1</td>\n",
              "      <td>1</td>\n",
              "      <td>1</td>\n",
              "      <td>1</td>\n",
              "      <td>0.785572</td>\n",
              "      <td>0.645390</td>\n",
              "      <td>0</td>\n",
              "      <td>0</td>\n",
              "      <td>1</td>\n",
              "      <td>0</td>\n",
              "      <td>0</td>\n",
              "      <td>0</td>\n",
              "      <td>1</td>\n",
              "      <td>0</td>\n",
              "      <td>0</td>\n",
              "      <td>1</td>\n",
              "      <td>0</td>\n",
              "    </tr>\n",
              "  </tbody>\n",
              "</table>\n",
              "</div>"
            ],
            "text/plain": [
              "      gender  ...  PaymentMethod_Mailed check\n",
              "4179       0  ...                           0\n",
              "28         0  ...                           0\n",
              "2774       0  ...                           1\n",
              "914        0  ...                           0\n",
              "6254       1  ...                           0\n",
              "\n",
              "[5 rows x 27 columns]"
            ]
          },
          "metadata": {},
          "execution_count": 69
        }
      ]
    },
    {
      "cell_type": "code",
      "metadata": {
        "colab": {
          "base_uri": "https://localhost:8080/"
        },
        "id": "9x-oO4Q5p2Oc",
        "outputId": "d1551567-dcfb-46e7-bdbb-6529056e8839"
      },
      "source": [
        "for col in df2:\n",
        "    print(f'{col} = {df2[col].unique()}')"
      ],
      "execution_count": null,
      "outputs": [
        {
          "output_type": "stream",
          "name": "stdout",
          "text": [
            "gender = [1 0]\n",
            "SeniorCitizen = [0 1]\n",
            "Partner = [1 0]\n",
            "Dependents = [0 1]\n",
            "tenure = [0.         0.46478873 0.01408451 0.61971831 0.09859155 0.29577465\n",
            " 0.12676056 0.38028169 0.85915493 0.16901408 0.21126761 0.8028169\n",
            " 0.67605634 0.33802817 0.95774648 0.71830986 0.98591549 0.28169014\n",
            " 0.15492958 0.4084507  0.64788732 1.         0.22535211 0.36619718\n",
            " 0.05633803 0.63380282 0.14084507 0.97183099 0.87323944 0.5915493\n",
            " 0.1971831  0.83098592 0.23943662 0.91549296 0.11267606 0.02816901\n",
            " 0.42253521 0.69014085 0.88732394 0.77464789 0.08450704 0.57746479\n",
            " 0.47887324 0.66197183 0.3943662  0.90140845 0.52112676 0.94366197\n",
            " 0.43661972 0.76056338 0.50704225 0.49295775 0.56338028 0.07042254\n",
            " 0.04225352 0.45070423 0.92957746 0.30985915 0.78873239 0.84507042\n",
            " 0.18309859 0.26760563 0.73239437 0.54929577 0.81690141 0.32394366\n",
            " 0.6056338  0.25352113 0.74647887 0.70422535 0.35211268 0.53521127]\n",
            "PhoneService = [0 1]\n",
            "MultipleLines = [0 1]\n",
            "OnlineSecurity = [0 1]\n",
            "OnlineBackup = [1 0]\n",
            "DeviceProtection = [0 1]\n",
            "TechSupport = [0 1]\n",
            "StreamingTV = [0 1]\n",
            "StreamingMovies = [0 1]\n",
            "PaperlessBilling = [1 0]\n",
            "MonthlyCharges = [0.11542289 0.38507463 0.35422886 ... 0.44626866 0.25820896 0.60149254]\n",
            "TotalCharges = [0.0012751  0.21586661 0.01031041 ... 0.03780868 0.03321025 0.78764136]\n",
            "Churn = [0 1]\n",
            "InternetService_DSL = [1 0]\n",
            "InternetService_Fiber optic = [0 1]\n",
            "InternetService_No = [0 1]\n",
            "Contract_Month-to-month = [1 0]\n",
            "Contract_One year = [0 1]\n",
            "Contract_Two year = [0 1]\n",
            "PaymentMethod_Bank transfer (automatic) = [0 1]\n",
            "PaymentMethod_Credit card (automatic) = [0 1]\n",
            "PaymentMethod_Electronic check = [1 0]\n",
            "PaymentMethod_Mailed check = [0 1]\n"
          ]
        }
      ]
    },
    {
      "cell_type": "code",
      "metadata": {
        "id": "aXkqDos-p2Ko"
      },
      "source": [
        "x = df2.drop('Churn', axis='columns')\n",
        "y = df2['Churn']"
      ],
      "execution_count": null,
      "outputs": []
    },
    {
      "cell_type": "code",
      "metadata": {
        "id": "eD8BLFZl-l5S"
      },
      "source": [
        "from sklearn.model_selection import train_test_split\n",
        "x_train, x_test, y_train, y_test = train_test_split(x, y, test_size= 0.2, random_state = 5)"
      ],
      "execution_count": null,
      "outputs": []
    },
    {
      "cell_type": "code",
      "metadata": {
        "colab": {
          "base_uri": "https://localhost:8080/"
        },
        "id": "jv-yFSz0-l02",
        "outputId": "2e2ba17e-a38d-4d4e-9587-53f5e0e6da28"
      },
      "source": [
        "x_train.shape"
      ],
      "execution_count": null,
      "outputs": [
        {
          "output_type": "execute_result",
          "data": {
            "text/plain": [
              "(5625, 26)"
            ]
          },
          "metadata": {},
          "execution_count": 74
        }
      ]
    },
    {
      "cell_type": "code",
      "metadata": {
        "colab": {
          "base_uri": "https://localhost:8080/"
        },
        "id": "6gwwLGF6-lyV",
        "outputId": "95098954-0ad6-4a9c-95a9-7e3f2c418609"
      },
      "source": [
        "x_test.shape"
      ],
      "execution_count": null,
      "outputs": [
        {
          "output_type": "execute_result",
          "data": {
            "text/plain": [
              "(1407, 26)"
            ]
          },
          "metadata": {},
          "execution_count": 75
        }
      ]
    },
    {
      "cell_type": "code",
      "metadata": {
        "id": "X6tiA7CU_T3O"
      },
      "source": [
        "import tensorflow as tf\n",
        "from tensorflow import keras\n",
        "\n"
      ],
      "execution_count": null,
      "outputs": []
    },
    {
      "cell_type": "code",
      "metadata": {
        "colab": {
          "base_uri": "https://localhost:8080/"
        },
        "id": "KqLpoB_9_T0-",
        "outputId": "766edec5-3c48-4c3c-8047-5fdb294496cd"
      },
      "source": [
        "model = keras.Sequential([\n",
        "                          keras.layers.Dense(26, input_shape =(26,), activation='relu'),\n",
        "                          keras.layers.Dense(2600, activation='relu'),\n",
        "                          keras.layers.Dense(1, activation='sigmoid')\n",
        "\n",
        "                          ])\n",
        "model.compile(\n",
        "    optimizer = 'adam',\n",
        "    loss = 'binary_crossentropy',\n",
        "    metrics = ['accuracy']\n",
        ")\n",
        "\n",
        "model.fit(x_train,y_train,epochs = 100)"
      ],
      "execution_count": null,
      "outputs": [
        {
          "output_type": "stream",
          "name": "stdout",
          "text": [
            "Epoch 1/100\n",
            "176/176 [==============================] - 1s 3ms/step - loss: 0.4490 - accuracy: 0.7838\n",
            "Epoch 2/100\n",
            "176/176 [==============================] - 1s 3ms/step - loss: 0.4239 - accuracy: 0.7972\n",
            "Epoch 3/100\n",
            "176/176 [==============================] - 1s 3ms/step - loss: 0.4171 - accuracy: 0.8048\n",
            "Epoch 4/100\n",
            "176/176 [==============================] - 1s 3ms/step - loss: 0.4133 - accuracy: 0.8034\n",
            "Epoch 5/100\n",
            "176/176 [==============================] - 1s 3ms/step - loss: 0.4101 - accuracy: 0.8071\n",
            "Epoch 6/100\n",
            "176/176 [==============================] - 1s 4ms/step - loss: 0.4056 - accuracy: 0.8100\n",
            "Epoch 7/100\n",
            "176/176 [==============================] - 1s 4ms/step - loss: 0.4027 - accuracy: 0.8124\n",
            "Epoch 8/100\n",
            "176/176 [==============================] - 1s 4ms/step - loss: 0.3999 - accuracy: 0.8140\n",
            "Epoch 9/100\n",
            "176/176 [==============================] - 1s 3ms/step - loss: 0.3955 - accuracy: 0.8151\n",
            "Epoch 10/100\n",
            "176/176 [==============================] - 1s 4ms/step - loss: 0.3935 - accuracy: 0.8142\n",
            "Epoch 11/100\n",
            "176/176 [==============================] - 1s 4ms/step - loss: 0.3903 - accuracy: 0.8162\n",
            "Epoch 12/100\n",
            "176/176 [==============================] - 1s 3ms/step - loss: 0.3846 - accuracy: 0.8212\n",
            "Epoch 13/100\n",
            "176/176 [==============================] - 1s 3ms/step - loss: 0.3813 - accuracy: 0.8222\n",
            "Epoch 14/100\n",
            "176/176 [==============================] - 1s 3ms/step - loss: 0.3779 - accuracy: 0.8231\n",
            "Epoch 15/100\n",
            "176/176 [==============================] - 1s 3ms/step - loss: 0.3720 - accuracy: 0.8233\n",
            "Epoch 16/100\n",
            "176/176 [==============================] - 1s 3ms/step - loss: 0.3713 - accuracy: 0.8231\n",
            "Epoch 17/100\n",
            "176/176 [==============================] - 1s 3ms/step - loss: 0.3675 - accuracy: 0.8268\n",
            "Epoch 18/100\n",
            "176/176 [==============================] - 1s 4ms/step - loss: 0.3623 - accuracy: 0.8311\n",
            "Epoch 19/100\n",
            "176/176 [==============================] - 1s 3ms/step - loss: 0.3584 - accuracy: 0.8318\n",
            "Epoch 20/100\n",
            "176/176 [==============================] - 1s 3ms/step - loss: 0.3539 - accuracy: 0.8327\n",
            "Epoch 21/100\n",
            "176/176 [==============================] - 1s 4ms/step - loss: 0.3508 - accuracy: 0.8361\n",
            "Epoch 22/100\n",
            "176/176 [==============================] - 1s 3ms/step - loss: 0.3440 - accuracy: 0.8377\n",
            "Epoch 23/100\n",
            "176/176 [==============================] - 1s 4ms/step - loss: 0.3402 - accuracy: 0.8398\n",
            "Epoch 24/100\n",
            "176/176 [==============================] - 1s 4ms/step - loss: 0.3375 - accuracy: 0.8423\n",
            "Epoch 25/100\n",
            "176/176 [==============================] - 1s 3ms/step - loss: 0.3352 - accuracy: 0.8423\n",
            "Epoch 26/100\n",
            "176/176 [==============================] - 1s 3ms/step - loss: 0.3274 - accuracy: 0.8443\n",
            "Epoch 27/100\n",
            "176/176 [==============================] - 1s 3ms/step - loss: 0.3260 - accuracy: 0.8448\n",
            "Epoch 28/100\n",
            "176/176 [==============================] - 1s 4ms/step - loss: 0.3185 - accuracy: 0.8496\n",
            "Epoch 29/100\n",
            "176/176 [==============================] - 1s 4ms/step - loss: 0.3144 - accuracy: 0.8512\n",
            "Epoch 30/100\n",
            "176/176 [==============================] - 1s 4ms/step - loss: 0.3080 - accuracy: 0.8551\n",
            "Epoch 31/100\n",
            "176/176 [==============================] - 1s 4ms/step - loss: 0.3042 - accuracy: 0.8560\n",
            "Epoch 32/100\n",
            "176/176 [==============================] - 1s 4ms/step - loss: 0.2982 - accuracy: 0.8617\n",
            "Epoch 33/100\n",
            "176/176 [==============================] - 1s 4ms/step - loss: 0.2952 - accuracy: 0.8603\n",
            "Epoch 34/100\n",
            "176/176 [==============================] - 1s 3ms/step - loss: 0.2903 - accuracy: 0.8670\n",
            "Epoch 35/100\n",
            "176/176 [==============================] - 1s 3ms/step - loss: 0.2868 - accuracy: 0.8688\n",
            "Epoch 36/100\n",
            "176/176 [==============================] - 1s 3ms/step - loss: 0.2813 - accuracy: 0.8684\n",
            "Epoch 37/100\n",
            "176/176 [==============================] - 1s 4ms/step - loss: 0.2779 - accuracy: 0.8695\n",
            "Epoch 38/100\n",
            "176/176 [==============================] - 1s 3ms/step - loss: 0.2726 - accuracy: 0.8752\n",
            "Epoch 39/100\n",
            "176/176 [==============================] - 1s 3ms/step - loss: 0.2670 - accuracy: 0.8805\n",
            "Epoch 40/100\n",
            "176/176 [==============================] - 1s 3ms/step - loss: 0.2630 - accuracy: 0.8805\n",
            "Epoch 41/100\n",
            "176/176 [==============================] - 1s 4ms/step - loss: 0.2573 - accuracy: 0.8811\n",
            "Epoch 42/100\n",
            "176/176 [==============================] - 1s 3ms/step - loss: 0.2554 - accuracy: 0.8834\n",
            "Epoch 43/100\n",
            "176/176 [==============================] - 1s 3ms/step - loss: 0.2481 - accuracy: 0.8923\n",
            "Epoch 44/100\n",
            "176/176 [==============================] - 1s 4ms/step - loss: 0.2443 - accuracy: 0.8892\n",
            "Epoch 45/100\n",
            "176/176 [==============================] - 1s 4ms/step - loss: 0.2410 - accuracy: 0.8914\n",
            "Epoch 46/100\n",
            "176/176 [==============================] - 1s 4ms/step - loss: 0.2370 - accuracy: 0.8964\n",
            "Epoch 47/100\n",
            "176/176 [==============================] - 1s 3ms/step - loss: 0.2302 - accuracy: 0.8976\n",
            "Epoch 48/100\n",
            "176/176 [==============================] - 1s 4ms/step - loss: 0.2262 - accuracy: 0.9010\n",
            "Epoch 49/100\n",
            "176/176 [==============================] - 1s 3ms/step - loss: 0.2244 - accuracy: 0.9003\n",
            "Epoch 50/100\n",
            "176/176 [==============================] - 1s 3ms/step - loss: 0.2203 - accuracy: 0.9047\n",
            "Epoch 51/100\n",
            "176/176 [==============================] - 1s 3ms/step - loss: 0.2165 - accuracy: 0.9072\n",
            "Epoch 52/100\n",
            "176/176 [==============================] - 1s 3ms/step - loss: 0.2114 - accuracy: 0.9076\n",
            "Epoch 53/100\n",
            "176/176 [==============================] - 1s 4ms/step - loss: 0.2066 - accuracy: 0.9129\n",
            "Epoch 54/100\n",
            "176/176 [==============================] - 1s 3ms/step - loss: 0.2057 - accuracy: 0.9102\n",
            "Epoch 55/100\n",
            "176/176 [==============================] - 1s 4ms/step - loss: 0.1999 - accuracy: 0.9150\n",
            "Epoch 56/100\n",
            "176/176 [==============================] - 1s 4ms/step - loss: 0.1963 - accuracy: 0.9150\n",
            "Epoch 57/100\n",
            "176/176 [==============================] - 1s 4ms/step - loss: 0.1960 - accuracy: 0.9138\n",
            "Epoch 58/100\n",
            "176/176 [==============================] - 1s 4ms/step - loss: 0.1890 - accuracy: 0.9177\n",
            "Epoch 59/100\n",
            "176/176 [==============================] - 1s 3ms/step - loss: 0.1917 - accuracy: 0.9204\n",
            "Epoch 60/100\n",
            "176/176 [==============================] - 1s 4ms/step - loss: 0.1863 - accuracy: 0.9204\n",
            "Epoch 61/100\n",
            "176/176 [==============================] - 1s 4ms/step - loss: 0.1817 - accuracy: 0.9232\n",
            "Epoch 62/100\n",
            "176/176 [==============================] - 1s 3ms/step - loss: 0.1810 - accuracy: 0.9230\n",
            "Epoch 63/100\n",
            "176/176 [==============================] - 1s 4ms/step - loss: 0.1783 - accuracy: 0.9236\n",
            "Epoch 64/100\n",
            "176/176 [==============================] - 1s 3ms/step - loss: 0.1740 - accuracy: 0.9275\n",
            "Epoch 65/100\n",
            "176/176 [==============================] - 1s 4ms/step - loss: 0.1730 - accuracy: 0.9278\n",
            "Epoch 66/100\n",
            "176/176 [==============================] - 1s 4ms/step - loss: 0.1688 - accuracy: 0.9262\n",
            "Epoch 67/100\n",
            "176/176 [==============================] - 1s 4ms/step - loss: 0.1692 - accuracy: 0.9262\n",
            "Epoch 68/100\n",
            "176/176 [==============================] - 1s 4ms/step - loss: 0.1663 - accuracy: 0.9314\n",
            "Epoch 69/100\n",
            "176/176 [==============================] - 1s 4ms/step - loss: 0.1667 - accuracy: 0.9239\n",
            "Epoch 70/100\n",
            "176/176 [==============================] - 1s 3ms/step - loss: 0.1609 - accuracy: 0.9296\n",
            "Epoch 71/100\n",
            "176/176 [==============================] - 1s 3ms/step - loss: 0.1612 - accuracy: 0.9335\n",
            "Epoch 72/100\n",
            "176/176 [==============================] - 1s 4ms/step - loss: 0.1591 - accuracy: 0.9321\n",
            "Epoch 73/100\n",
            "176/176 [==============================] - 1s 3ms/step - loss: 0.1550 - accuracy: 0.9369\n",
            "Epoch 74/100\n",
            "176/176 [==============================] - 1s 4ms/step - loss: 0.1581 - accuracy: 0.9319\n",
            "Epoch 75/100\n",
            "176/176 [==============================] - 1s 4ms/step - loss: 0.1600 - accuracy: 0.9285\n",
            "Epoch 76/100\n",
            "176/176 [==============================] - 1s 4ms/step - loss: 0.1530 - accuracy: 0.9323\n",
            "Epoch 77/100\n",
            "176/176 [==============================] - 1s 4ms/step - loss: 0.1503 - accuracy: 0.9319\n",
            "Epoch 78/100\n",
            "176/176 [==============================] - 1s 4ms/step - loss: 0.1516 - accuracy: 0.9344\n",
            "Epoch 79/100\n",
            "176/176 [==============================] - 1s 4ms/step - loss: 0.1460 - accuracy: 0.9383\n",
            "Epoch 80/100\n",
            "176/176 [==============================] - 1s 4ms/step - loss: 0.1471 - accuracy: 0.9360\n",
            "Epoch 81/100\n",
            "176/176 [==============================] - 1s 3ms/step - loss: 0.1455 - accuracy: 0.9348\n",
            "Epoch 82/100\n",
            "176/176 [==============================] - 1s 3ms/step - loss: 0.1471 - accuracy: 0.9337\n",
            "Epoch 83/100\n",
            "176/176 [==============================] - 1s 4ms/step - loss: 0.1445 - accuracy: 0.9378\n",
            "Epoch 84/100\n",
            "176/176 [==============================] - 1s 4ms/step - loss: 0.1436 - accuracy: 0.9397\n",
            "Epoch 85/100\n",
            "176/176 [==============================] - 1s 4ms/step - loss: 0.1415 - accuracy: 0.9364\n",
            "Epoch 86/100\n",
            "176/176 [==============================] - 1s 4ms/step - loss: 0.1394 - accuracy: 0.9385\n",
            "Epoch 87/100\n",
            "176/176 [==============================] - 1s 4ms/step - loss: 0.1389 - accuracy: 0.9378\n",
            "Epoch 88/100\n",
            "176/176 [==============================] - 1s 4ms/step - loss: 0.1417 - accuracy: 0.9381\n",
            "Epoch 89/100\n",
            "176/176 [==============================] - 1s 4ms/step - loss: 0.1388 - accuracy: 0.9396\n",
            "Epoch 90/100\n",
            "176/176 [==============================] - 1s 4ms/step - loss: 0.1420 - accuracy: 0.9383\n",
            "Epoch 91/100\n",
            "176/176 [==============================] - 1s 4ms/step - loss: 0.1369 - accuracy: 0.9383\n",
            "Epoch 92/100\n",
            "176/176 [==============================] - 1s 4ms/step - loss: 0.1360 - accuracy: 0.9394\n",
            "Epoch 93/100\n",
            "176/176 [==============================] - 1s 4ms/step - loss: 0.1340 - accuracy: 0.9388\n",
            "Epoch 94/100\n",
            "176/176 [==============================] - 1s 4ms/step - loss: 0.1333 - accuracy: 0.9397\n",
            "Epoch 95/100\n",
            "176/176 [==============================] - 1s 4ms/step - loss: 0.1330 - accuracy: 0.9392\n",
            "Epoch 96/100\n",
            "176/176 [==============================] - 1s 4ms/step - loss: 0.1311 - accuracy: 0.9406\n",
            "Epoch 97/100\n",
            "176/176 [==============================] - 1s 4ms/step - loss: 0.1321 - accuracy: 0.9426\n",
            "Epoch 98/100\n",
            "176/176 [==============================] - 1s 4ms/step - loss: 0.1311 - accuracy: 0.9422\n",
            "Epoch 99/100\n",
            "176/176 [==============================] - 1s 4ms/step - loss: 0.1312 - accuracy: 0.9428\n",
            "Epoch 100/100\n",
            "176/176 [==============================] - 1s 4ms/step - loss: 0.1290 - accuracy: 0.9408\n"
          ]
        },
        {
          "output_type": "execute_result",
          "data": {
            "text/plain": [
              "<keras.callbacks.History at 0x7fd7b37f7d10>"
            ]
          },
          "metadata": {},
          "execution_count": 89
        }
      ]
    },
    {
      "cell_type": "code",
      "metadata": {
        "colab": {
          "base_uri": "https://localhost:8080/"
        },
        "id": "7iSpfdDw_Tx_",
        "outputId": "589683a8-8d7b-4207-d6f4-65a2de21cd1d"
      },
      "source": [
        "model.evaluate(x_test,y_test)"
      ],
      "execution_count": null,
      "outputs": [
        {
          "output_type": "stream",
          "name": "stdout",
          "text": [
            "44/44 [==============================] - 0s 2ms/step - loss: 1.0652 - accuracy: 0.7434\n"
          ]
        },
        {
          "output_type": "execute_result",
          "data": {
            "text/plain": [
              "[1.0651568174362183, 0.743425726890564]"
            ]
          },
          "metadata": {},
          "execution_count": 90
        }
      ]
    },
    {
      "cell_type": "code",
      "metadata": {
        "colab": {
          "base_uri": "https://localhost:8080/"
        },
        "id": "uVFB87l0_Tt8",
        "outputId": "3068743e-8192-439c-ac30-9a7c6caa8565"
      },
      "source": [
        "yp = model.predict(x_test)\n",
        "yp[:5]"
      ],
      "execution_count": null,
      "outputs": [
        {
          "output_type": "execute_result",
          "data": {
            "text/plain": [
              "array([[1.7139319e-05],\n",
              "       [7.5019449e-02],\n",
              "       [1.5815667e-15],\n",
              "       [9.2699611e-01],\n",
              "       [9.7087532e-01]], dtype=float32)"
            ]
          },
          "metadata": {},
          "execution_count": 91
        }
      ]
    },
    {
      "cell_type": "code",
      "metadata": {
        "id": "-qaxyn47_TrS"
      },
      "source": [
        "y_pred =[]\n",
        "for element in yp:\n",
        "  if element > 0.5:\n",
        "    y_pred.append(1)\n",
        "  else:\n",
        "    y_pred.append(0)   "
      ],
      "execution_count": null,
      "outputs": []
    },
    {
      "cell_type": "code",
      "metadata": {
        "colab": {
          "base_uri": "https://localhost:8080/"
        },
        "id": "psOuAaW__Top",
        "outputId": "7a1b0fde-432f-4c41-b154-f4d467e75386"
      },
      "source": [
        "y_pred[:10]"
      ],
      "execution_count": null,
      "outputs": [
        {
          "output_type": "execute_result",
          "data": {
            "text/plain": [
              "[0, 0, 0, 1, 1, 1, 0, 0, 0, 0]"
            ]
          },
          "metadata": {},
          "execution_count": 93
        }
      ]
    },
    {
      "cell_type": "code",
      "metadata": {
        "colab": {
          "base_uri": "https://localhost:8080/"
        },
        "id": "CWLuOda9-lvx",
        "outputId": "8cbf00fb-e573-46b6-ff97-2aaeb42efd10"
      },
      "source": [
        "y_test[:10]"
      ],
      "execution_count": null,
      "outputs": [
        {
          "output_type": "execute_result",
          "data": {
            "text/plain": [
              "2660    0\n",
              "744     0\n",
              "5579    1\n",
              "64      1\n",
              "3287    1\n",
              "816     1\n",
              "2670    0\n",
              "5920    0\n",
              "1023    0\n",
              "6087    0\n",
              "Name: Churn, dtype: int64"
            ]
          },
          "metadata": {},
          "execution_count": 94
        }
      ]
    },
    {
      "cell_type": "code",
      "metadata": {
        "colab": {
          "base_uri": "https://localhost:8080/"
        },
        "id": "Oq-vdpCn-lsm",
        "outputId": "7bffdb52-1f23-419e-eb29-373513c1e1a9"
      },
      "source": [
        "from sklearn.metrics import confusion_matrix, classification_report\n",
        "\n",
        "print(classification_report(y_test,y_pred))\n"
      ],
      "execution_count": null,
      "outputs": [
        {
          "output_type": "stream",
          "name": "stdout",
          "text": [
            "              precision    recall  f1-score   support\n",
            "\n",
            "           0       0.80      0.85      0.83       999\n",
            "           1       0.57      0.48      0.52       408\n",
            "\n",
            "    accuracy                           0.74      1407\n",
            "   macro avg       0.68      0.66      0.67      1407\n",
            "weighted avg       0.73      0.74      0.74      1407\n",
            "\n"
          ]
        }
      ]
    },
    {
      "cell_type": "code",
      "metadata": {
        "colab": {
          "base_uri": "https://localhost:8080/",
          "height": 510
        },
        "id": "w9Wi-tlC-lqM",
        "outputId": "07379230-202f-4832-9940-b0ff197f8bd3"
      },
      "source": [
        "import seaborn as sn\n",
        "cm = tf.math.confusion_matrix(labels=y_test,predictions=y_pred)\n",
        "print(cm)\n",
        "\n",
        "plt.figure(figsize=(10,7))\n",
        "sn.heatmap(cm, annot = True, fmt = 'd')\n",
        "plt.xlabel('predicted')\n",
        "plt.ylabel('truth')"
      ],
      "execution_count": null,
      "outputs": [
        {
          "output_type": "stream",
          "name": "stdout",
          "text": [
            "tf.Tensor(\n",
            "[[851 148]\n",
            " [213 195]], shape=(2, 2), dtype=int32)\n"
          ]
        },
        {
          "output_type": "execute_result",
          "data": {
            "text/plain": [
              "Text(69.0, 0.5, 'truth')"
            ]
          },
          "metadata": {},
          "execution_count": 99
        },
        {
          "output_type": "display_data",
          "data": {
            "image/png": "[encoded data removed]",
            "text/plain": [
              "<Figure size 720x504 with 2 Axes>"
            ]
          },
          "metadata": {
            "needs_background": "light"
          }
        }
      ]
    },
    {
      "cell_type": "code",
      "metadata": {
        "colab": {
          "base_uri": "https://localhost:8080/"
        },
        "id": "jyUc9p-S-lnc",
        "outputId": "708adbcb-eaa5-4c3e-ef0a-2f733cbc042c"
      },
      "source": [
        "round((884+227)/(884+115+181+227),2)"
      ],
      "execution_count": null,
      "outputs": [
        {
          "output_type": "execute_result",
          "data": {
            "text/plain": [
              "0.79"
            ]
          },
          "metadata": {},
          "execution_count": 98
        }
      ]
    },
    {
      "cell_type": "code",
      "metadata": {
        "id": "lh8hvk3i-lkt"
      },
      "source": [
        ""
      ],
      "execution_count": null,
      "outputs": []
    },
    {
      "cell_type": "code",
      "metadata": {
        "id": "Il0CYnxs-liJ"
      },
      "source": [
        ""
      ],
      "execution_count": null,
      "outputs": []
    },
    {
      "cell_type": "code",
      "metadata": {
        "id": "XjYp5BBU-lf_"
      },
      "source": [
        ""
      ],
      "execution_count": null,
      "outputs": []
    },
    {
      "cell_type": "code",
      "metadata": {
        "id": "7DKXv_-G-lc2"
      },
      "source": [
        ""
      ],
      "execution_count": null,
      "outputs": []
    },
    {
      "cell_type": "code",
      "metadata": {
        "id": "kpAORDGE-laI"
      },
      "source": [
        ""
      ],
      "execution_count": null,
      "outputs": []
    },
    {
      "cell_type": "code",
      "metadata": {
        "id": "kYsUX1qS-lYL"
      },
      "source": [
        ""
      ],
      "execution_count": null,
      "outputs": []
    },
    {
      "cell_type": "code",
      "metadata": {
        "id": "yEeB4dER-lVI"
      },
      "source": [
        ""
      ],
      "execution_count": null,
      "outputs": []
    },
    {
      "cell_type": "code",
      "metadata": {
        "id": "DvG1mhfF-lSN"
      },
      "source": [
        ""
      ],
      "execution_count": null,
      "outputs": []
    },
    {
      "cell_type": "code",
      "metadata": {
        "id": "5Sk2EutM-lQJ"
      },
      "source": [
        ""
      ],
      "execution_count": null,
      "outputs": []
    },
    {
      "cell_type": "code",
      "metadata": {
        "id": "b6SicMUw-lM_"
      },
      "source": [
        ""
      ],
      "execution_count": null,
      "outputs": []
    },
    {
      "cell_type": "code",
      "metadata": {
        "id": "Zc7whp77-lKs"
      },
      "source": [
        ""
      ],
      "execution_count": null,
      "outputs": []
    },
    {
      "cell_type": "code",
      "metadata": {
        "id": "PhtcUACJ-lIS"
      },
      "source": [
        ""
      ],
      "execution_count": null,
      "outputs": []
    },
    {
      "cell_type": "code",
      "metadata": {
        "id": "5EDOCa_i-lFt"
      },
      "source": [
        ""
      ],
      "execution_count": null,
      "outputs": []
    },
    {
      "cell_type": "code",
      "metadata": {
        "id": "HbllZy-R-lDd"
      },
      "source": [
        ""
      ],
      "execution_count": null,
      "outputs": []
    },
    {
      "cell_type": "code",
      "metadata": {
        "id": "Wo1jYXq4-lAh"
      },
      "source": [
        ""
      ],
      "execution_count": null,
      "outputs": []
    },
    {
      "cell_type": "code",
      "metadata": {
        "id": "R0z93z6E-k9-"
      },
      "source": [
        ""
      ],
      "execution_count": null,
      "outputs": []
    },
    {
      "cell_type": "code",
      "metadata": {
        "id": "Uzzp8Gfo-k7Y"
      },
      "source": [
        ""
      ],
      "execution_count": null,
      "outputs": []
    }
  ]
}